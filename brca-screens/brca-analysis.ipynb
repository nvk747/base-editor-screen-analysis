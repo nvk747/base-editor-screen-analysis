{
 "cells": [
  {
   "cell_type": "markdown",
   "metadata": {},
   "source": [
    "# Analysis of BRCA pools\n",
    "\n",
    "This notebook describes the analysis of the tiling screens of BRCA1 and BRCA2. This version of the notebook includes data from HAP1 (screened with no drug) and MELJUSO (screened with cisplatin and talazoparib).\n",
    "\n",
    "The starting data are already filtered to exclude sgRNAs that have >5 Match Bin I off-targets and sgRNAs for which the lognorm of the pDNA is > 3 SD from the mean. To obtain these data from the Supplementary Tables, run the Screening_Data_Processign notebook."
   ]
  },
  {
   "cell_type": "raw",
   "metadata": {},
   "source": [
    "<script>\n",
    "  function code_toggle() {\n",
    "    if (code_shown){\n",
    "      $('div.input').hide('500');\n",
    "      $('#toggleButton').val('Show Code')\n",
    "    } else {\n",
    "      $('div.input').show('500');\n",
    "      $('#toggleButton').val('Hide Code')\n",
    "    }\n",
    "    code_shown = !code_shown\n",
    "  }\n",
    "\n",
    "  $( document ).ready(function(){\n",
    "    code_shown=false;\n",
    "    $('div.input').hide()\n",
    "  });\n",
    "</script>\n",
    "<form action=\"javascript:code_toggle()\"><input type=\"submit\" id=\"toggleButton\" value=\"Show Code\"></form>"
   ]
  },
  {
   "cell_type": "code",
   "execution_count": 6,
   "metadata": {},
   "outputs": [],
   "source": [
    "import pandas as pd \n",
    "import numpy as np \n",
    "import seaborn as sns\n",
    "import matplotlib.pyplot as plt\n",
    "import matplotlib as mpl\n",
    "from scipy.stats import pearsonr, gaussian_kde\n",
    "from math import log, floor, ceil\n",
    "import base_edit_functions_v3 as be\n",
    "from scipy import arange\n",
    "from sklearn.metrics import auc, roc_curve, roc_auc_score\n",
    "\n",
    "# Set default settings for plotting\n",
    "sns.set(style='ticks',context='paper')\n",
    "mpl.rc('pdf', fonttype=42)\n",
    "mpl.rcParams['font.sans-serif'] = \"Arial\"\n",
    "mpl.rcParams['font.family'] = \"sans-serif\""
   ]
  },
  {
   "cell_type": "code",
   "execution_count": 7,
   "metadata": {},
   "outputs": [],
   "source": [
    "brca1 = pd.read_csv('../Data/Filtered_LFC_files/Table_S2_filtered_BRCA1_v1.csv')\n",
    "brca2 = pd.read_csv('../Data/Filtered_LFC_files/Table_S2_filtered_BRCA2_v1.csv')"
   ]
  },
  {
   "cell_type": "markdown",
   "metadata": {},
   "source": [
    "### Cell line correlations\n",
    "\n",
    "First, we look at the correlation between the two cell lines."
   ]
  },
  {
   "cell_type": "code",
   "execution_count": 8,
   "metadata": {},
   "outputs": [],
   "source": [
    "def generate_scatter(xcol,ycol,scores,xlabel,ylabel,title,lims,name):\n",
    "    fig,ax = plt.subplots(figsize=(2,2))\n",
    "    x = scores[xcol]\n",
    "    y = scores[ycol]\n",
    "    corr = np.round(pearsonr(x, y)[0],2)\n",
    "    xy = np.vstack([x,y])\n",
    "    z = gaussian_kde(xy)(xy)\n",
    "    idx = z.argsort()\n",
    "    x, y, z = x[idx], y[idx], z[idx]\n",
    "    ax.scatter(x, y, c=z, s=8, edgecolor='', cmap='viridis')\n",
    "    ax.set_aspect('equal')\n",
    "    ax.set_xlim(lims)\n",
    "    ax.set_ylim(lims)\n",
    "    ax.set_xlabel(xlabel,fontsize=8)\n",
    "    ax.set_ylabel(ylabel,fontsize=8)\n",
    "    ax.set_title(title)\n",
    "    ax.text(0.98,0,'r = '+str(corr), fontsize=8,ha='right',va='bottom',transform=ax.transAxes)\n",
    "    #UNDO\n",
    "    #fig.savefig('../Figures/Fig2-3_BRCA/Panels/'+name,bbox_inches='tight',transparent=True)\n",
    "    return fig,ax\n"
   ]
  },
  {
   "cell_type": "markdown",
   "metadata": {},
   "source": [
    "First, we can examine the correlation between the different cell lines and drug arms."
   ]
  },
  {
   "cell_type": "markdown",
   "metadata": {},
   "source": [
    "## BRCA1"
   ]
  },
  {
   "cell_type": "code",
   "execution_count": 33,
   "metadata": {},
   "outputs": [
    {
     "name": "stdout",
     "output_type": "stream",
     "text": [
      "Correlation between MELJUSO talazoparib and MELJUSO cisplatin = 0.94\n"
     ]
    }
   ],
   "source": [
    "corr = np.round(pearsonr(brca1['MELJUSO;Talazoparib;MedABC;LFC_pdna'], brca1['MELJUSO;Cisplatin;MedABC;LFC_pdna'])[0],2)\n",
    "print 'Correlation between MELJUSO talazoparib and MELJUSO cisplatin = ' + str(corr)"
   ]
  },
  {
   "cell_type": "code",
   "execution_count": 10,
   "metadata": {},
   "outputs": [
    {
     "data": {
      "image/png": "[encoded data removed]",
      "text/plain": [
       "<Figure size 144x144 with 1 Axes>"
      ]
     },
     "metadata": {},
     "output_type": "display_data"
    }
   ],
   "source": [
    "fig,ax = generate_scatter(xcol='HAP1;Dropout;MedABC;LFC_pdna',\n",
    "                   ycol='MELJUSO;AvgTalazoparib_Cisplatin;LFC_pdna',\n",
    "                   scores=brca1,\n",
    "                   xlabel='HAP1, LFC',\n",
    "                   ylabel='MELJUSO, average LFC',\n",
    "                   title='BRCA1',\n",
    "                   lims=[-4,1],\n",
    "                   name='HAP1_Meljuso_BRCA1.pdf')"
   ]
  },
  {
   "cell_type": "markdown",
   "metadata": {},
   "source": [
    "## BRCA2"
   ]
  },
  {
   "cell_type": "code",
   "execution_count": 32,
   "metadata": {},
   "outputs": [
    {
     "name": "stdout",
     "output_type": "stream",
     "text": [
      "Correlation between MELJUSO talazoparib and MELJUSO cisplatin = 0.97\n"
     ]
    }
   ],
   "source": [
    "corr = np.round(pearsonr(brca2['MELJUSO;Talazoparib;MedABC;LFC_pdna'], brca2['MELJUSO;Cisplatin;MedABC;LFC_pdna'])[0],2)\n",
    "print 'Correlation between MELJUSO talazoparib and MELJUSO cisplatin = ' + str(corr)"
   ]
  },
  {
   "cell_type": "code",
   "execution_count": 12,
   "metadata": {},
   "outputs": [
    {
     "data": {
      "image/png": "[encoded data removed]",
      "text/plain": [
       "<Figure size 144x144 with 1 Axes>"
      ]
     },
     "metadata": {},
     "output_type": "display_data"
    }
   ],
   "source": [
    "fig,ax = generate_scatter(xcol='HAP1;Dropout;MedABC;LFC_pdna',\n",
    "                   ycol='MELJUSO;AvgTalazoparib_Cisplatin;LFC_pdna',\n",
    "                   scores=brca2,\n",
    "                   xlabel='HAP1, LFC',\n",
    "                   ylabel='MELJUSO, average LFC',\n",
    "                   title='BRCA2',\n",
    "                   lims=[-4,1],\n",
    "                   name='HAP1_Meljuso_BRCA2.pdf')"
   ]
  },
  {
   "cell_type": "markdown",
   "metadata": {},
   "source": [
    "### Histograms\n",
    "\n",
    "Next, we create some ridgeplots to show the depletion of the different sgRNA categories."
   ]
  },
  {
   "cell_type": "code",
   "execution_count": 34,
   "metadata": {},
   "outputs": [
    {
     "data": {
      "image/png": "[encoded data removed]",
      "text/plain": [
       "<Figure size 216x144 with 6 Axes>"
      ]
     },
     "metadata": {},
     "output_type": "display_data"
    },
    {
     "data": {
      "text/plain": [
       "<Figure size 432x288 with 0 Axes>"
      ]
     },
     "metadata": {},
     "output_type": "display_data"
    }
   ],
   "source": [
    "fig,ax = be.make_ridgeplots(\n",
    "            data = brca1,\n",
    "            col = 'AvgHAP1_MELJUSO;LFC_pdna;z-score',\n",
    "            lims = [-14,6],\n",
    "            ticks = [-12,-8,-4,0,4],\n",
    "            xlabel = 'z-score',\n",
    "            geneset = ['BRCA1'],\n",
    "            cutoff = -2,\n",
    "            control_geneset = ['Intergenic control'])\n",
    "#UNDO\n",
    "#fig.savefig('../Figures/Fig2-3_BRCA/BRCA1_ridgeplot_v2.pdf',transparent=True,bbox_inches='tight')"
   ]
  },
  {
   "cell_type": "code",
   "execution_count": 14,
   "metadata": {},
   "outputs": [
    {
     "data": {
      "image/png": "[encoded data removed]",
      "text/plain": [
       "<Figure size 216x144 with 6 Axes>"
      ]
     },
     "metadata": {},
     "output_type": "display_data"
    },
    {
     "data": {
      "text/plain": [
       "<Figure size 432x288 with 0 Axes>"
      ]
     },
     "metadata": {},
     "output_type": "display_data"
    }
   ],
   "source": [
    "fig,ax = be.make_ridgeplots(\n",
    "            data = brca2,\n",
    "            col = 'AvgHAP1_MELJUSO;LFC_pdna;z-score',\n",
    "            lims = [-14,6],\n",
    "            ticks = [-12,-8,-4,0,4],\n",
    "            xlabel = 'z-score',\n",
    "            geneset = ['BRCA2'],\n",
    "            cutoff = -2,\n",
    "            control_geneset = ['Intergenic control'])\n",
    "#UNDO\n",
    "#fig.savefig('../Figures/Fig2-3_BRCA/BRCA2_ridgeplot_v2.pdf',transparent=True,bbox_inches='tight')"
   ]
  },
  {
   "cell_type": "markdown",
   "metadata": {},
   "source": [
    "# Sensitivity and specificity analysis"
   ]
  },
  {
   "cell_type": "code",
   "execution_count": 15,
   "metadata": {},
   "outputs": [],
   "source": [
    "def brca_roc(input_data,colname,title):\n",
    "    df = input_data.copy()\n",
    "    fig,ax = plt.subplots(figsize = (1.7,1.7))\n",
    "\n",
    "    # Define true positives and true negatives\n",
    "    df[str('true_pos')] = np.nan\n",
    "    df.loc[df['SNP clinical significance'].isin(['Pathogenic',\n",
    "                                                 'Pathogenic/Likely pathogenic',\n",
    "                                                 'Likely pathogenic']),str('true_pos')] = 1\n",
    "    df.loc[df['SNP clinical significance'].isin(['Benign',\n",
    "                                                 'Benign/Likely benign',\n",
    "                                                 'Likely benign']),str('true_pos')] = 0\n",
    "    \n",
    "    # Calculate percent rank\n",
    "    df[str('pctrank')] = df[colname].rank(ascending=False,pct=True)\n",
    "    print 'true positive n = ' + str(len(df[df[str('true_pos')] == 1]))\n",
    "    print 'false positive n = ' + str(len(df[df[str('true_pos')] == 0]))  \n",
    "\n",
    "    data = df[df[str('true_pos')].isin([0,1])]\n",
    "    \n",
    "    fpr, tpr, thresholds = roc_curve(data['true_pos'], data['pctrank'])\n",
    "    roc_auc = auc(fpr, tpr)\n",
    "    print roc_auc\n",
    "    plt.plot(fpr, tpr,color='black')\n",
    "\n",
    "    # Tidy up plot\n",
    "    plt.xlim([-0.05, 1.05])\n",
    "    plt.ylim([-0.05, 1.05])\n",
    "    ax.set_xticks([0,0.5,1])\n",
    "    ax.set_yticks([0,0.5,1])\n",
    "    plt.xlabel('False positive rate\\n1 - specificity',fontsize=8)\n",
    "    plt.ylabel('True positive rate\\nSensitivity',fontsize=8)\n",
    "    plt.xticks(fontsize = 8)\n",
    "    plt.yticks(fontsize = 8)    \n",
    "    for axis in ['top','bottom','left','right']:\n",
    "        ax.spines[axis].set_linewidth(0.5)\n",
    "        ax.tick_params(width = 0.5,length = 4)\n",
    "\n",
    "    plt.title(title,y = 1.0,fontsize = 8)\n",
    "    plt.show()\n",
    "    plt.close()\n",
    "    return fig,ax"
   ]
  },
  {
   "cell_type": "markdown",
   "metadata": {},
   "source": [
    "For this analysis, we join on the \"clinvar_annotations\" files for BRCA1 and BRCA2. These are files of ClinVar variants that have one variant per row (i.e. an sgRNA can appear multiple times)."
   ]
  },
  {
   "cell_type": "code",
   "execution_count": 16,
   "metadata": {},
   "outputs": [],
   "source": [
    "sns.set_style('ticks')\n",
    "brca1_clinvar_annot = pd.read_table('../Data/Annotations/0423_GC_filter_annotations/BRCA1_0422_20-04-22-17-23-50/clinvar_annotations_BRCA1_0422.txt')\n",
    "brca2_clinvar_annot = pd.read_table('../Data/Annotations/0423_GC_filter_annotations/BRCA2_0422_20-04-22-17-24-24/clinvar_annotations_BRCA2_0422.txt')"
   ]
  },
  {
   "cell_type": "markdown",
   "metadata": {},
   "source": [
    "The \"Same amino acid change\", \"Same nucleotide change,\" \"Same amino acid position,\" and \"Same amino acid change\" columns provide information about the similarity of the SNP to the edit that is predicted by the sgRNA. For the purposes of this analysis, we will require a stringent match: Same nucleotide position == True, Same nucleotide change == True, and Same amino acid change != False (this is to include splice sites / introns, which are \"blanks\"). We don't require that Same amino acid position == True to account for differences in transcripts."
   ]
  },
  {
   "cell_type": "code",
   "execution_count": 17,
   "metadata": {},
   "outputs": [
    {
     "name": "stdout",
     "output_type": "stream",
     "text": [
      "(195, 28)\n"
     ]
    },
    {
     "data": {
      "text/html": [
       "<div>\n",
       "<style scoped>\n",
       "    .dataframe tbody tr th:only-of-type {\n",
       "        vertical-align: middle;\n",
       "    }\n",
       "\n",
       "    .dataframe tbody tr th {\n",
       "        vertical-align: top;\n",
       "    }\n",
       "\n",
       "    .dataframe thead th {\n",
       "        text-align: right;\n",
       "    }\n",
       "</style>\n",
       "<table border=\"1\" class=\"dataframe\">\n",
       "  <thead>\n",
       "    <tr style=\"text-align: right;\">\n",
       "      <th></th>\n",
       "      <th>sgRNA sequence</th>\n",
       "      <th>Edit nucleotide</th>\n",
       "      <th>Edit nucleotide position(s)</th>\n",
       "      <th>Mutation category</th>\n",
       "      <th>SNP nucleotide position</th>\n",
       "      <th>SNP amino acid change</th>\n",
       "      <th>SNP reference allele</th>\n",
       "      <th>SNP alternate allele</th>\n",
       "      <th>SNP clinical significance</th>\n",
       "      <th>Same nucleotide position</th>\n",
       "      <th>Same nucleotide change</th>\n",
       "      <th>Same amino acid position</th>\n",
       "      <th>Same amino acid change</th>\n",
       "    </tr>\n",
       "  </thead>\n",
       "  <tbody>\n",
       "    <tr>\n",
       "      <th>0</th>\n",
       "      <td>AAATCTTAGAGTGTCCCATC</td>\n",
       "      <td>C_5</td>\n",
       "      <td>43124034</td>\n",
       "      <td>Silent</td>\n",
       "      <td>43124034.0</td>\n",
       "      <td>Ile21Ile</td>\n",
       "      <td>G</td>\n",
       "      <td>A</td>\n",
       "      <td>Likely benign</td>\n",
       "      <td>True</td>\n",
       "      <td>True</td>\n",
       "      <td>True</td>\n",
       "      <td>True</td>\n",
       "    </tr>\n",
       "    <tr>\n",
       "      <th>5</th>\n",
       "      <td>CCAGACTAGCAGGGTAGGGG</td>\n",
       "      <td>C_6</td>\n",
       "      <td>43115780</td>\n",
       "      <td>Splice-acceptor</td>\n",
       "      <td>43115780.0</td>\n",
       "      <td>NaN</td>\n",
       "      <td>C</td>\n",
       "      <td>T</td>\n",
       "      <td>Pathogenic/Likely pathogenic</td>\n",
       "      <td>True</td>\n",
       "      <td>True</td>\n",
       "      <td>NaN</td>\n",
       "      <td>NaN</td>\n",
       "    </tr>\n",
       "    <tr>\n",
       "      <th>6</th>\n",
       "      <td>CCCCCCCTACCCTGCTAGTC</td>\n",
       "      <td>C_6</td>\n",
       "      <td>43115792</td>\n",
       "      <td>Intron</td>\n",
       "      <td>43115792.0</td>\n",
       "      <td>NaN</td>\n",
       "      <td>G</td>\n",
       "      <td>A</td>\n",
       "      <td>Conflicting interpretations of pathogenicity</td>\n",
       "      <td>True</td>\n",
       "      <td>True</td>\n",
       "      <td>NaN</td>\n",
       "      <td>NaN</td>\n",
       "    </tr>\n",
       "    <tr>\n",
       "      <th>10</th>\n",
       "      <td>CCCCCCCTACCCTGCTAGTC</td>\n",
       "      <td>C_5</td>\n",
       "      <td>43115793</td>\n",
       "      <td>Intron</td>\n",
       "      <td>43115793.0</td>\n",
       "      <td>NaN</td>\n",
       "      <td>G</td>\n",
       "      <td>A</td>\n",
       "      <td>Benign/Likely benign</td>\n",
       "      <td>True</td>\n",
       "      <td>True</td>\n",
       "      <td>NaN</td>\n",
       "      <td>NaN</td>\n",
       "    </tr>\n",
       "    <tr>\n",
       "      <th>12</th>\n",
       "      <td>CCCCCCCTACCCTGCTAGTC</td>\n",
       "      <td>C_7</td>\n",
       "      <td>43115791</td>\n",
       "      <td>Intron</td>\n",
       "      <td>43115791.0</td>\n",
       "      <td>NaN</td>\n",
       "      <td>G</td>\n",
       "      <td>A</td>\n",
       "      <td>Likely benign</td>\n",
       "      <td>True</td>\n",
       "      <td>True</td>\n",
       "      <td>NaN</td>\n",
       "      <td>NaN</td>\n",
       "    </tr>\n",
       "  </tbody>\n",
       "</table>\n",
       "</div>"
      ],
      "text/plain": [
       "          sgRNA sequence Edit nucleotide Edit nucleotide position(s)  \\\n",
       "0   AAATCTTAGAGTGTCCCATC             C_5                    43124034   \n",
       "5   CCAGACTAGCAGGGTAGGGG             C_6                    43115780   \n",
       "6   CCCCCCCTACCCTGCTAGTC             C_6                    43115792   \n",
       "10  CCCCCCCTACCCTGCTAGTC             C_5                    43115793   \n",
       "12  CCCCCCCTACCCTGCTAGTC             C_7                    43115791   \n",
       "\n",
       "   Mutation category  SNP nucleotide position SNP amino acid change  \\\n",
       "0             Silent               43124034.0              Ile21Ile   \n",
       "5    Splice-acceptor               43115780.0                   NaN   \n",
       "6             Intron               43115792.0                   NaN   \n",
       "10            Intron               43115793.0                   NaN   \n",
       "12            Intron               43115791.0                   NaN   \n",
       "\n",
       "   SNP reference allele SNP alternate allele  \\\n",
       "0                     G                    A   \n",
       "5                     C                    T   \n",
       "6                     G                    A   \n",
       "10                    G                    A   \n",
       "12                    G                    A   \n",
       "\n",
       "                       SNP clinical significance Same nucleotide position  \\\n",
       "0                                  Likely benign                     True   \n",
       "5                   Pathogenic/Likely pathogenic                     True   \n",
       "6   Conflicting interpretations of pathogenicity                     True   \n",
       "10                          Benign/Likely benign                     True   \n",
       "12                                 Likely benign                     True   \n",
       "\n",
       "   Same nucleotide change Same amino acid position Same amino acid change  \n",
       "0                    True                     True                   True  \n",
       "5                    True                      NaN                    NaN  \n",
       "6                    True                      NaN                    NaN  \n",
       "10                   True                      NaN                    NaN  \n",
       "12                   True                      NaN                    NaN  "
      ]
     },
     "execution_count": 17,
     "metadata": {},
     "output_type": "execute_result"
    }
   ],
   "source": [
    "# Filter for stringent matches\n",
    "brca1_clinvar_annot = brca1_clinvar_annot.loc[(brca1_clinvar_annot['Same nucleotide position'] == True) &\n",
    "                                              (brca1_clinvar_annot['Same nucleotide change'] == True) &\n",
    "                                              (brca1_clinvar_annot['Same amino acid change'] != False),:]\n",
    "\n",
    "brca2_clinvar_annot = brca2_clinvar_annot.loc[(brca2_clinvar_annot['Same nucleotide position'] == True) &\n",
    "                                              (brca2_clinvar_annot['Same nucleotide change'] == True) &\n",
    "                                              (brca2_clinvar_annot['Same amino acid change'] != False),:]\n",
    "\n",
    "# Look at a subset of the clinvar_annot dataframe\n",
    "print brca1_clinvar_annot.shape\n",
    "brca1_clinvar_annot[['sgRNA sequence','Edit nucleotide','Edit nucleotide position(s)','Mutation category','SNP nucleotide position',\n",
    "                     'SNP amino acid change','SNP reference allele','SNP alternate allele','SNP clinical significance','Same nucleotide position',\n",
    "                     'Same nucleotide change','Same amino acid position','Same amino acid change']].head()"
   ]
  },
  {
   "cell_type": "code",
   "execution_count": 18,
   "metadata": {},
   "outputs": [],
   "source": [
    "# Merge onto clinvar dataframe\n",
    "brca1_clinvar = pd.merge(brca1,brca1_clinvar_annot,how='left',on='sgRNA sequence')\n",
    "brca2_clinvar = pd.merge(brca2,brca2_clinvar_annot,how='left',on='sgRNA sequence')"
   ]
  },
  {
   "cell_type": "markdown",
   "metadata": {},
   "source": [
    "Next, we obtain our gold standard test of true positives (Pathogenic / Likely pathogenic) and true negatives (Benign / Likely benign) for BRCA1 and BRCA2. For true negatives, we also require that sgRNAs introduce the edit uniquely, to avoid possible confounding effects from other mutations. Then, for each variant, we obtain a single score for each variant by taking the mean of all sgRNAs predicted to introduce that variant."
   ]
  },
  {
   "cell_type": "code",
   "execution_count": 19,
   "metadata": {},
   "outputs": [],
   "source": [
    "def get_average_per_variant(variant,df,col):\n",
    "    return df.loc[df['SNP nucleotide position'] == variant,col].mean()"
   ]
  },
  {
   "cell_type": "code",
   "execution_count": 20,
   "metadata": {},
   "outputs": [
    {
     "name": "stdout",
     "output_type": "stream",
     "text": [
      "Pathogenic / Likely pathogenic\n",
      "Number of unique sgRNAs = 45\n",
      "Number of unique variants = 36\n"
     ]
    },
    {
     "name": "stderr",
     "output_type": "stream",
     "text": [
      "/Users/rhanna/anaconda3/lib/python2.7/site-packages/pandas/core/indexing.py:362: SettingWithCopyWarning: \n",
      "A value is trying to be set on a copy of a slice from a DataFrame.\n",
      "Try using .loc[row_indexer,col_indexer] = value instead\n",
      "\n",
      "See the caveats in the documentation: http://pandas.pydata.org/pandas-docs/stable/indexing.html#indexing-view-versus-copy\n",
      "  self.obj[key] = _infer_fill_value(value)\n",
      "/Users/rhanna/anaconda3/lib/python2.7/site-packages/pandas/core/indexing.py:543: SettingWithCopyWarning: \n",
      "A value is trying to be set on a copy of a slice from a DataFrame.\n",
      "Try using .loc[row_indexer,col_indexer] = value instead\n",
      "\n",
      "See the caveats in the documentation: http://pandas.pydata.org/pandas-docs/stable/indexing.html#indexing-view-versus-copy\n",
      "  self.obj[item] = s\n"
     ]
    }
   ],
   "source": [
    "# Get BRCA1 true positive set\n",
    "print 'Pathogenic / Likely pathogenic'\n",
    "brca1_true_pos = brca1_clinvar.loc[(brca1_clinvar['SNP clinical significance'].isin(['Pathogenic','Pathogenic/Likely pathogenic','Likely pathogenic']))]\n",
    "\n",
    "# Number of unique sgRNAs\n",
    "print 'Number of unique sgRNAs = ' + str(len(set(brca1_true_pos['Construct Barcode'].tolist())))\n",
    "\n",
    "# Number of unique variants\n",
    "print 'Number of unique variants = ' + str(len(set(brca1_true_pos['Edit nucleotide position(s)'].tolist())))\n",
    "\n",
    "brca1_true_pos.loc[:,'Average score per variant'] = brca1_true_pos.loc[:,'SNP nucleotide position'].apply(get_average_per_variant,args=(brca1_true_pos,'AvgHAP1_MELJUSO;LFC_pdna;z-score',))\n",
    "brca1_true_pos = brca1_true_pos.loc[:,['Edit nucleotide position(s)','SNP clinical significance','sgRNA amino acid change','Average score per variant']].drop_duplicates(subset='Edit nucleotide position(s)')\n"
   ]
  },
  {
   "cell_type": "code",
   "execution_count": 21,
   "metadata": {},
   "outputs": [
    {
     "name": "stdout",
     "output_type": "stream",
     "text": [
      "Benign / Likely benign\n",
      "Number of unique sgRNAs = 23\n",
      "Number of unique variants = 19\n"
     ]
    }
   ],
   "source": [
    "# Get BRCA1 true negative set\n",
    "print 'Benign / Likely benign'\n",
    "brca1_true_neg = brca1_clinvar.loc[(brca1_clinvar['# edits'] == 1) & \n",
    "                                   (brca1_clinvar['SNP clinical significance'].isin(['Benign','Benign/Likely benign','Likely benign']))]\n",
    "# Number of unique sgRNAs\n",
    "print 'Number of unique sgRNAs = ' + str(len(set(brca1_true_neg['Construct Barcode'].tolist())))\n",
    "\n",
    "# Number of unique variants\n",
    "print 'Number of unique variants = ' + str(len(set(brca1_true_neg['Edit nucleotide position(s)'].tolist())))\n",
    "\n",
    "brca1_true_neg.loc[:,'Average score per variant'] = brca1_true_neg.loc[:,'SNP nucleotide position'].apply(get_average_per_variant,args=(brca1_true_neg,'AvgHAP1_MELJUSO;LFC_pdna;z-score',))\n",
    "brca1_true_neg = brca1_true_neg.loc[:,['Edit nucleotide position(s)','SNP clinical significance','sgRNA amino acid change','Average score per variant']].drop_duplicates(subset='Edit nucleotide position(s)')\n"
   ]
  },
  {
   "cell_type": "code",
   "execution_count": 22,
   "metadata": {},
   "outputs": [
    {
     "name": "stdout",
     "output_type": "stream",
     "text": [
      "Pathogenic / Likely pathogenic\n",
      "Number of unique sgRNAs = 34\n",
      "Number of unique variants = 31\n",
      "31\n"
     ]
    }
   ],
   "source": [
    "# Get BRCA2 true positive set\n",
    "print 'Pathogenic / Likely pathogenic'\n",
    "brca2_true_pos = brca2_clinvar.loc[(brca2_clinvar['SNP clinical significance'].isin(['Pathogenic','Pathogenic/Likely pathogenic','Likely pathogenic']))]\n",
    "\n",
    "# Number of unique sgRNAs\n",
    "print 'Number of unique sgRNAs = ' + str(len(set(brca2_true_pos['Construct Barcode'].tolist())))\n",
    "\n",
    "# Number of unique variants\n",
    "print 'Number of unique variants = ' + str(len(set(brca2_true_pos['Edit nucleotide position(s)'].tolist())))\n",
    "\n",
    "brca2_true_pos.loc[:,'Average score per variant'] = brca2_true_pos.loc[:,'SNP nucleotide position'].apply(get_average_per_variant,args=(brca2_true_pos,'AvgHAP1_MELJUSO;LFC_pdna;z-score',))\n",
    "brca2_true_pos = brca2_true_pos.loc[:,['Edit nucleotide position(s)','SNP clinical significance','sgRNA amino acid change','Average score per variant']].drop_duplicates(subset='Edit nucleotide position(s)')\n",
    "print len(brca2_true_pos)"
   ]
  },
  {
   "cell_type": "code",
   "execution_count": 23,
   "metadata": {},
   "outputs": [
    {
     "name": "stdout",
     "output_type": "stream",
     "text": [
      "Benign / Likely benign\n",
      "Number of unique sgRNAs = 24\n",
      "Number of unique variants = 21\n",
      "21\n"
     ]
    }
   ],
   "source": [
    "# Get BRCA2 true negative set\n",
    "print 'Benign / Likely benign'\n",
    "brca2_true_neg = brca2_clinvar.loc[(brca2_clinvar['# edits'] == 1) & \n",
    "                                   (brca2_clinvar['SNP clinical significance'].isin(['Benign','Benign/Likely benign','Likely benign']))]\n",
    "\n",
    "# Number of unique sgRNAs\n",
    "print 'Number of unique sgRNAs = ' + str(len(set(brca2_true_neg['Construct Barcode'].tolist())))\n",
    "\n",
    "# Number of unique variants\n",
    "print 'Number of unique variants = ' + str(len(set(brca2_true_neg['Edit nucleotide position(s)'].tolist())))\n",
    "\n",
    "brca2_true_neg.loc[:,'Average score per variant'] = brca2_true_neg.loc[:,'SNP nucleotide position'].apply(get_average_per_variant,args=(brca2_true_neg,'AvgHAP1_MELJUSO;LFC_pdna;z-score',))\n",
    "brca2_true_neg = brca2_true_neg.loc[:,['Edit nucleotide position(s)','SNP clinical significance','sgRNA amino acid change','Average score per variant']].drop_duplicates(subset='Edit nucleotide position(s)')\n",
    "print len(brca2_true_neg)"
   ]
  },
  {
   "cell_type": "code",
   "execution_count": 24,
   "metadata": {},
   "outputs": [
    {
     "name": "stdout",
     "output_type": "stream",
     "text": [
      "Total number of \"gold standard\" BRCA1 variants = 55\n",
      "Total number of \"gold standard\" BRCA2 variants = 52\n"
     ]
    }
   ],
   "source": [
    "brca1_curated = pd.concat([brca1_true_pos,brca1_true_neg])\n",
    "print 'Total number of \"gold standard\" BRCA1 variants = ' + str(len(brca1_curated))\n",
    "\n",
    "brca2_curated = pd.concat([brca2_true_pos,brca2_true_neg])\n",
    "print 'Total number of \"gold standard\" BRCA2 variants = ' + str(len(brca2_curated))"
   ]
  },
  {
   "cell_type": "code",
   "execution_count": 25,
   "metadata": {},
   "outputs": [
    {
     "name": "stdout",
     "output_type": "stream",
     "text": [
      "true positive n = 36\n",
      "false positive n = 19\n",
      "0.8538011695906432\n"
     ]
    },
    {
     "data": {
      "image/png": "[encoded data removed]",
      "text/plain": [
       "<Figure size 122.4x122.4 with 1 Axes>"
      ]
     },
     "metadata": {},
     "output_type": "display_data"
    }
   ],
   "source": [
    "fig,ax = brca_roc(brca1_curated,'Average score per variant','BRCA1')\n",
    "#UNDO\n",
    "#fig.savefig('../Figures/Fig2-3_BRCA/Panels/ROC_BRCA1_variant_v1.pdf',bbox_inches='tight',transparent=True)"
   ]
  },
  {
   "cell_type": "code",
   "execution_count": 26,
   "metadata": {},
   "outputs": [
    {
     "name": "stdout",
     "output_type": "stream",
     "text": [
      "true positive n = 31\n",
      "false positive n = 21\n",
      "0.9585253456221199\n"
     ]
    },
    {
     "data": {
      "image/png": "[encoded data removed]",
      "text/plain": [
       "<Figure size 122.4x122.4 with 1 Axes>"
      ]
     },
     "metadata": {},
     "output_type": "display_data"
    }
   ],
   "source": [
    "fig,ax = brca_roc(brca2_curated,'Average score per variant','BRCA2')\n",
    "#UNDO\n",
    "#fig.savefig('../Figures/Fig2-3_BRCA/Panels/ROC_BRCA2_variant_v1.pdf',bbox_inches='tight',transparent=True)"
   ]
  },
  {
   "cell_type": "markdown",
   "metadata": {},
   "source": [
    "Finally, we calculate sensitivity and specificity at a z-score threshold of -2."
   ]
  },
  {
   "cell_type": "code",
   "execution_count": 35,
   "metadata": {},
   "outputs": [],
   "source": [
    "def get_sens_spec(df,cutoff):\n",
    "    # sensitivity = tp / all positives\n",
    "    path_types = ['Pathogenic','Pathogenic/Likely pathogenic','Likely pathogenic']\n",
    "    tp = len(df[(df['SNP clinical significance'].isin(path_types)) & \n",
    "                  (df['Average score per variant'] < -2)])\n",
    "    all_pos = len(df[(df['SNP clinical significance'].isin(path_types))])\n",
    "    sensitivity = float(tp)/float(all_pos)\n",
    "    \n",
    "    # specificity = tn / all negatives\n",
    "    benign_types = ['Benign','Benign/Likely benign','Likely benign']\n",
    "    tn = len(df[(df['SNP clinical significance'].isin(benign_types)) & \n",
    "                  (df['Average score per variant'] >= -2)])\n",
    "    all_neg = len(df[(df['SNP clinical significance'].isin(benign_types))])\n",
    "    specificity = float(tn)/float(all_neg)\n",
    "    \n",
    "    return sensitivity, specificity\n"
   ]
  },
  {
   "cell_type": "code",
   "execution_count": 38,
   "metadata": {},
   "outputs": [
    {
     "name": "stdout",
     "output_type": "stream",
     "text": [
      "Sensitivity = 0.69\n",
      "Specificity = 0.84\n"
     ]
    }
   ],
   "source": [
    "sens, spec = get_sens_spec(brca1_curated, -2)\n",
    "print 'Sensitivity = ' + str(np.round(sens,2))\n",
    "print 'Specificity = ' + str(np.round(spec,2))"
   ]
  },
  {
   "cell_type": "code",
   "execution_count": 39,
   "metadata": {},
   "outputs": [
    {
     "name": "stdout",
     "output_type": "stream",
     "text": [
      "Sensitivity = 0.84\n",
      "Specificity = 0.86\n"
     ]
    }
   ],
   "source": [
    "sens, spec = get_sens_spec(brca2_curated, -2)\n",
    "print 'Sensitivity = ' + str(np.round(sens,2))\n",
    "print 'Specificity = ' + str(np.round(spec,2))"
   ]
  }
 ],
 "metadata": {
  "hide_input": false,
  "kernelspec": {
   "display_name": "Python 2",
   "language": "python",
   "name": "python2"
  },
  "language_info": {
   "codemirror_mode": {
    "name": "ipython",
    "version": 2
   },
   "file_extension": ".py",
   "mimetype": "text/x-python",
   "name": "python",
   "nbconvert_exporter": "python",
   "pygments_lexer": "ipython2",
   "version": "2.7.9"
  },
  "toc": {
   "base_numbering": 1,
   "nav_menu": {},
   "number_sections": true,
   "sideBar": true,
   "skip_h1_title": false,
   "title_cell": "Table of Contents",
   "title_sidebar": "Contents",
   "toc_cell": false,
   "toc_position": {
    "height": "calc(100% - 180px)",
    "left": "10px",
    "top": "150px",
    "width": "336px"
   },
   "toc_section_display": true,
   "toc_window_display": true
  },
  "varInspector": {
   "cols": {
    "lenName": 16,
    "lenType": 16,
    "lenVar": 40
   },
   "kernels_config": {
    "python": {
     "delete_cmd_postfix": "",
     "delete_cmd_prefix": "del ",
     "library": "var_list.py",
     "varRefreshCmd": "print(var_dic_list())"
    },
    "r": {
     "delete_cmd_postfix": ") ",
     "delete_cmd_prefix": "rm(",
     "library": "var_list.r",
     "varRefreshCmd": "cat(var_dic_list()) "
    }
   },
   "types_to_exclude": [
    "module",
    "function",
    "builtin_function_or_method",
    "instance",
    "_Feature"
   ],
   "window_display": false
  }
 },
 "nbformat": 4,
 "nbformat_minor": 4
}
