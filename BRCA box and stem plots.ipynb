{
 "cells": [
  {
   "cell_type": "code",
   "execution_count": 1,
   "metadata": {},
   "outputs": [],
   "source": [
    "import pandas as pd \n",
    "import seaborn as sns\n",
    "import matplotlib.pyplot as plt\n",
    "import matplotlib as mpl\n",
    "import warnings, os\n",
    "import numpy as np\n",
    "import colors\n",
    "\n",
    "color_dict = colors.get_colors()\n",
    "\n",
    "# Set default settings for plotting\n",
    "warnings.filterwarnings('ignore')\n",
    "sns.set_style('ticks')\n",
    "sns.set_context('paper', font_scale=2)\n",
    "mpl.rc('pdf', fonttype=42)\n",
    "mpl.rcParams['font.sans-serif'] = \"Arial\"\n",
    "mpl.rcParams['font.family'] = \"sans-serif\""
   ]
  },
  {
   "cell_type": "code",
   "execution_count": 2,
   "metadata": {},
   "outputs": [
    {
     "name": "stdout",
     "output_type": "stream",
     "text": [
      "Python version: 3.7.4 (default, Aug 13 2019, 15:17:50) \n",
      "[Clang 4.0.1 (tags/RELEASE_401/final)]\n",
      "pandas 0.25.1\n",
      "scipy 1.3.1\n",
      "matplotlib 3.1.1\n",
      "numpy 1.17.2\n",
      "seaborn 0.9.0\n"
     ]
    }
   ],
   "source": [
    "import sys\n",
    "print('Python version: ' + sys.version)\n",
    "modules = ['pandas', 'scipy','matplotlib','numpy','seaborn']\n",
    "for module in modules:\n",
    "    try:\n",
    "        print(module + ' ' + sys.modules[module].__version__)\n",
    "    except:\n",
    "        print(module + ' has no __version__ attribute')"
   ]
  },
  {
   "cell_type": "code",
   "execution_count": 75,
   "metadata": {},
   "outputs": [],
   "source": [
    "# This function is used to plot z-scores along the length of the AA in a protein in a scatter plot.\n",
    "# Missense, silent, and nosense mutations are split up by color. \n",
    "# Another axis shows z-scores of controls and guides that don't target the exon of the gene. \n",
    "# Last updated 23-Apr-2020\n",
    "# ZMS\n",
    "\n",
    "def stem_box_plot(ycol,df,xcol,ylabel,title,linepos,xlims,ylims,xlabel,xticks,yticks,n_position,d1,d2):\n",
    "\n",
    "    #Set style/parameters for plot\n",
    "    sns.set_context(\"paper\",font_scale=1)\n",
    "    sns.set_style('ticks')\n",
    "    fig,ax = plt.subplots(figsize=(5,2), sharex=True, sharey=True)\n",
    "    gs = fig.add_gridspec(1, 5)\n",
    "    ax = plt.subplot(gs[:3])\n",
    "    ax2 = plt.subplot(gs[3:],sharey=ax)\n",
    "    boxprops = {'edgecolor': 'black','linewidth':0.5}\n",
    "    lineprops = {'color': 'black','linewidth':0.5}\n",
    "    noprops = {'linewidth': 0.000001}\n",
    "    fig.suptitle(title, fontsize=8)\n",
    "    sns.despine()\n",
    "    ax.tick_params(length=2, width=0.5,labelsize=6)\n",
    "    ax2.tick_params(length=2, width=0.5,labelsize=6)\n",
    "    for _,s in ax.spines.items():\n",
    "        s.set_linewidth(0.5)\n",
    "    for _,s in ax2.spines.items():\n",
    "        s.set_linewidth(0.5)\n",
    "    boxplot_kwargs = dict({'boxprops': boxprops, 'medianprops': lineprops,  \n",
    "                       'whiskerprops': lineprops, 'capprops': lineprops,\n",
    "                       'width': 0.75})\n",
    "    median_kwargs = dict({'boxprops': noprops, 'medianprops': lineprops,\n",
    "                       'whiskerprops': noprops, 'capprops': noprops,\n",
    "                       'width': 0.75})\n",
    "    color_dict['Intergenic control'] = sns.color_palette('Set2')[7]\n",
    "    color_dict['Non-targeting control'] = sns.color_palette('Set2')[7]\n",
    "    color_dict['Intron/UTR'] = color_dict['Intron']\n",
    "    \n",
    "    # Draw shaded area on scatter plot to span x1 and x2 values\n",
    "    ax.axvspan(d1[0],d1[1],facecolor=sns.color_palette('Set2')[7],alpha=0.5,edgecolor=None)\n",
    "    ax.axvspan(d2[0],d2[1],facecolor=sns.color_palette('Set2')[7],alpha=0.2,edgecolor=None)\n",
    "\n",
    "    \n",
    "    # Adds a dashed line to plots at y = 'linepos'\n",
    "    for pos in linepos:\n",
    "        ax.axhline(pos,color='black',linestyle='dashed',zorder=2,linewidth=0.5)\n",
    "        ax2.axhline(pos,color='black',linestyle='dashed',zorder=2,linewidth=0.5)\n",
    "\n",
    "    #Make stem plot\n",
    "    mut_types=['Silent','Missense','Nonsense']\n",
    "    count = 0\n",
    "    for mut_type in mut_types: \n",
    "        data = df[(df['Mutation bin'] == mut_type) & (df['Gene Symbol'] == title)].dropna(subset=[xcol])\n",
    "        count = count + len(data)\n",
    "        ax.scatter(data[xcol],data[ycol],c=[color_dict[mut_type]],label = mut_type, s=15,zorder=3,alpha=1,linewidths=0.01)\n",
    "    #Stem plot formating\n",
    "    ax.set_xlabel('Amino acid residue',fontsize=8,color='black')\n",
    "    ax.set_ylabel(ylabel,fontsize=8,color='black')\n",
    "    ax.text(n_position, ylims[0]+0.5, 'n: ' + str(count),fontsize=6,color='black')\n",
    "    ax.set_xlim(xlims)\n",
    "    ax.set_ylim(ylims)\n",
    "    ax.set_xticks(xticks)\n",
    "    ax.set_yticks(yticks)\n",
    "    \n",
    "    #Plot guides not along exon, exlcuding controls\n",
    "    small = df.loc[(df['Gene Symbol'] == title) & df['Mutation bin'].str.contains('site|Intron|UTR|edit'),['Mutation bin',ycol]]\n",
    "    small.loc[small['Mutation bin'] == 'UTR','Mutation bin'] = 'Intron/UTR'\n",
    "    small.loc[small['Mutation bin'] == 'Intron','Mutation bin'] = 'Intron/UTR'\n",
    "    small.sort_values(by=['Mutation bin'],inplace=True)\n",
    "    controls = df.loc[df['Gene Symbol'].str.contains('control',na=False),['Gene Symbol',ycol]]\n",
    "    controls.rename(columns={\"Gene Symbol\": 'Mutation bin'},inplace=True)\n",
    "    controls.sort_values(by=['Mutation bin'],inplace=True)\n",
    "    small = pd.concat([small,controls])\n",
    "    categories = small['Mutation bin'].unique().tolist()\n",
    "    strip = pd.DataFrame(columns=['Mutation bin',ycol])\n",
    "    outliers = pd.DataFrame(columns=['Mutation bin',ycol])\n",
    "    bar = pd.DataFrame(columns=['Mutation bin',ycol])\n",
    "    \n",
    "    for cat in categories:\n",
    "        #For sample sizes larger than 20, add to swarm df and then set equal to 0\n",
    "        strip = strip.append(small.loc[small['Mutation bin'].str.contains(cat)],sort=False, ignore_index=True)\n",
    "        bar = bar.append(small.loc[small['Mutation bin'].str.contains(cat)],sort=False, ignore_index=True)\n",
    "        outliers = outliers.append(small.loc[small['Mutation bin'].str.contains(cat)],sort=False, ignore_index=True)\n",
    "        if len(small.loc[small['Mutation bin'].str.contains(cat)].index) >20 :\n",
    "            strip.loc[strip['Mutation bin'].str.contains(cat),ycol] = np.nan\n",
    "            [q1,q3] = outliers.loc[outliers['Mutation bin'].str.contains(cat),ycol].quantile([0.25,0.75])\n",
    "            IQR = q3-q1\n",
    "            w1 = q1-1.5*IQR\n",
    "            w3 = q3+1.5*IQR\n",
    "            outliers.loc[outliers['Mutation bin'].str.contains(cat) & (outliers[ycol] > w1) & (outliers[ycol] < w3), ycol] = np.nan\n",
    "        #For data sets <=20, add to swarm dataset & bar data set & then set bar data to NaN\n",
    "        else: \n",
    "            bar.loc[bar['Mutation bin'].str.contains(cat),ycol] = np.nan \n",
    "\n",
    "    sns.boxplot(x='Mutation bin',y=ycol,data=bar,palette=color_dict,ax=ax2,\n",
    "               showfliers=False,**boxplot_kwargs)\n",
    "    sns.boxplot(x='Mutation bin',y=ycol,data=strip,color='white',ax=ax2,\n",
    "               showfliers=False,**median_kwargs,showbox=False,showcaps=False,\n",
    "               whis=0)\n",
    "    sns.stripplot(x='Mutation bin',y=ycol,data=outliers,palette=color_dict,ax=ax2,s=3.5)\n",
    "\n",
    "    #Box plot formatting (Axis 2)\n",
    "    ax2.set_xlabel('')\n",
    "    ax2.set_ylabel('')\n",
    "    plt.setp(ax2.get_yticklabels(), visible=False)\n",
    "    ax2.set_xticklabels(['Intron/\\nUTR','No\\nEdits','Splice\\nsite','Intergenic\\ncontrol',\n",
    "                        'Non-\\ntargeting\\ncontrol'],fontsize=6)\n",
    "    \n",
    "    \n",
    "    # Calculate number of obs per group for position labels\n",
    "    nobs = []\n",
    "    for cat in categories:\n",
    "        nobs.append(len(bar.loc[bar['Mutation bin'] == cat].index))\n",
    "    nobs_sum = sum(nobs)\n",
    "    nobs = [str(integer) for integer in nobs]\n",
    "    nobs = [\"n: \" + i for i in nobs]\n",
    "\n",
    "    #Add it to the plot\n",
    "    pos = range(len(nobs))\n",
    "    for tick,label in zip(pos,ax2.get_xticklabels()):\n",
    "        ax2.text(pos[tick], ylims[0]+0.5, nobs[tick],\n",
    "               horizontalalignment='center', size='x-small', color='black',fontsize=6) \n",
    "\n",
    "     \n",
    "    plt.tight_layout()\n",
    "    plt.show()\n",
    "    pan_lethal = len(df.loc[df['Gene Symbol'].str.contains('splice',na=False)]) \n",
    "    print('Stem plot: ' + str(count))\n",
    "    print('Box plot: ' + str(len(small)))\n",
    "    print('Pan lethal: ' + str(pan_lethal))\n",
    "    print('Unaccounted for: ' + str(len(df)-count-len(small)-pan_lethal))\n",
    "\n",
    "    return fig,ax"
   ]
  },
  {
   "cell_type": "markdown",
   "metadata": {},
   "source": [
    "# BRCA1"
   ]
  },
  {
   "cell_type": "code",
   "execution_count": 3,
   "metadata": {},
   "outputs": [],
   "source": [
    "brca1 = pd.read_csv('../Data/Filtered_LFC_files/Table_S2_filtered_BRCA1_v1.csv')"
   ]
  },
  {
   "cell_type": "code",
   "execution_count": 41,
   "metadata": {},
   "outputs": [
    {
     "data": {
      "image/png": "[encoded data removed]",
      "text/plain": [
       "<Figure size 360x144 with 2 Axes>"
      ]
     },
     "metadata": {},
     "output_type": "display_data"
    },
    {
     "name": "stdout",
     "output_type": "stream",
     "text": [
      "Stem plot: 256\n",
      "Box plot: 436\n",
      "Pan lethal: 31\n",
      "Unaccounted for: 0\n"
     ]
    }
   ],
   "source": [
    "col = 'AvgHAP1_MELJUSO;LFC_pdna;z-score'\n",
    "fig,ax = stem_box_plot(\n",
    "    ycol=col,\n",
    "    df=brca1,\n",
    "    xcol='Median Residues',\n",
    "    ylabel='HAP1;Meljuso Z-score',\n",
    "    title='BRCA1',\n",
    "    linepos=[-2,-4],\n",
    "    xlims=[0,2000],\n",
    "    ylims=[-10,2],\n",
    "    xlabel='Amino acid residue',\n",
    "    xticks=[0,500,1000,1500,2000],\n",
    "    yticks=[-10,-5,0],\n",
    "    n_position = 1800,\n",
    "    x1 = 1, x2 = 109)\n",
    "#fig.savefig('../Figures/Fig2_BRCA/Panels/BRCA1_protein_plot_v7.pdf',bbox_inches='tight',dpi=1000)"
   ]
  },
  {
   "cell_type": "markdown",
   "metadata": {},
   "source": [
    "# BRCA2"
   ]
  },
  {
   "cell_type": "code",
   "execution_count": 54,
   "metadata": {},
   "outputs": [],
   "source": [
    "brca2 = pd.read_csv('../../Data/Filtered_LFC_files/Table_S2_filtered_BRCA2_v1.csv')"
   ]
  },
  {
   "cell_type": "code",
   "execution_count": 56,
   "metadata": {},
   "outputs": [
    {
     "data": {
      "image/png": "[encoded data removed]",
      "text/plain": [
       "<Figure size 360x144 with 2 Axes>"
      ]
     },
     "metadata": {},
     "output_type": "display_data"
    },
    {
     "name": "stdout",
     "output_type": "stream",
     "text": [
      "Stem plot: 268\n",
      "Box plot: 460\n",
      "Pan lethal: 31\n",
      "Unaccounted for: 0\n"
     ]
    }
   ],
   "source": [
    "col = 'AvgHAP1_MELJUSO;LFC_pdna;z-score'\n",
    "fig,ax = stem_box_plot(\n",
    "    ycol=col,\n",
    "    df=brca2,\n",
    "    xcol='Median Residues',\n",
    "    ylabel='HAP1;Meljuso Z-score',\n",
    "    title='BRCA2',\n",
    "    linepos=[-4,-2],\n",
    "    xlims=[0,3500],\n",
    "    ylims=[-12,2],\n",
    "    xlabel='Amino acid residue',\n",
    "    xticks=[0,500,1000,1500,2000,2500,3000,3500],\n",
    "    yticks=[-10, -5, 0],\n",
    "    n_position = 3100,\n",
    "    x1 = 2481, x2 = 3186)\n",
    "#fig.savefig('../Figures/Fig2_BRCA/Panels/BRCA2_protein_plot_v7.pdf',bbox_inches='tight',dpi=1000)"
   ]
  },
  {
   "cell_type": "markdown",
   "metadata": {},
   "source": [
    "# PARP1"
   ]
  },
  {
   "cell_type": "code",
   "execution_count": 3,
   "metadata": {},
   "outputs": [],
   "source": [
    "parp1 = pd.read_csv('../../Data/Filtered_LFC_files/Table_S6_filtered_PARP1_v1.csv')"
   ]
  },
  {
   "cell_type": "code",
   "execution_count": 76,
   "metadata": {},
   "outputs": [
    {
     "data": {
      "image/png": "[encoded data removed]",
      "text/plain": [
       "<Figure size 360x144 with 2 Axes>"
      ]
     },
     "metadata": {},
     "output_type": "display_data"
    },
    {
     "name": "stdout",
     "output_type": "stream",
     "text": [
      "Stem plot: 294\n",
      "Box plot: 1324\n",
      "Pan lethal: 0\n",
      "Unaccounted for: 9533\n"
     ]
    }
   ],
   "source": [
    "col = 'HAP1;Talazoparib;AvgAB;LFC_dropout;z-score'\n",
    "fig,ax = stem_box_plot(\n",
    "    ycol=col,\n",
    "    df=parp1,\n",
    "    xcol='Median Residues',\n",
    "    ylabel='HAP1;Talazoparib Z-score',\n",
    "    title='PARP1',\n",
    "    linepos=[-4,4],\n",
    "    xlims=[0,1050],\n",
    "    ylims=[-15,12],\n",
    "    xlabel='Amino acid residue',\n",
    "    xticks=[0,500,1000],\n",
    "    yticks=[-15,-10, -5, 0,5,10],\n",
    "    n_position = 950,\n",
    "    d1 = [662,785],\n",
    "    d2 = [785,1014])\n",
    "#fig.savefig('../../Figures/Fig5_PARP/PARP1_protein_plot_v1.pdf',bbox_inches='tight',dpi=1000)"
   ]
  }
 ],
 "metadata": {
  "hide_input": false,
  "kernelspec": {
   "display_name": "Python 3",
   "language": "python",
   "name": "python3"
  },
  "language_info": {
   "codemirror_mode": {
    "name": "ipython",
    "version": 3
   },
   "file_extension": ".py",
   "mimetype": "text/x-python",
   "name": "python",
   "nbconvert_exporter": "python",
   "pygments_lexer": "ipython3",
   "version": "3.6.5"
  },
  "toc": {
   "base_numbering": 1,
   "nav_menu": {},
   "number_sections": true,
   "sideBar": true,
   "skip_h1_title": false,
   "title_cell": "Table of Contents",
   "title_sidebar": "Contents",
   "toc_cell": false,
   "toc_position": {},
   "toc_section_display": true,
   "toc_window_display": false
  },
  "varInspector": {
   "cols": {
    "lenName": 16,
    "lenType": 16,
    "lenVar": 40
   },
   "kernels_config": {
    "python": {
     "delete_cmd_postfix": "",
     "delete_cmd_prefix": "del ",
     "library": "var_list.py",
     "varRefreshCmd": "print(var_dic_list())"
    },
    "r": {
     "delete_cmd_postfix": ") ",
     "delete_cmd_prefix": "rm(",
     "library": "var_list.r",
     "varRefreshCmd": "cat(var_dic_list()) "
    }
   },
   "types_to_exclude": [
    "module",
    "function",
    "builtin_function_or_method",
    "instance",
    "_Feature"
   ],
   "window_display": false
  }
 },
 "nbformat": 4,
 "nbformat_minor": 2
}
