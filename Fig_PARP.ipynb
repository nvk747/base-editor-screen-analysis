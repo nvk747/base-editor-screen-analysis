{
 "cells": [
  {
   "cell_type": "markdown",
   "metadata": {},
   "source": [
    "### PARP1 screen\n",
    "\n",
    "This notebook generates Figure S6B. The input is the filtered LFC file for the PARP1 screen (Table S9); this can be generated using the Screening_Data_Preprocessing notebook."
   ]
  },
  {
   "cell_type": "code",
   "execution_count": 1,
   "metadata": {},
   "outputs": [],
   "source": [
    "import pandas as pd\n",
    "import numpy as np\n",
    "import matplotlib.pyplot as plt\n",
    "import seaborn as sns\n",
    "import matplotlib as mpl\n",
    "\n",
    "# Set default settings for plotting\n",
    "sns.set_style('ticks')\n",
    "sns.set_context('paper')\n",
    "mpl.rc('pdf', fonttype=42)\n",
    "mpl.rcParams['axes.linewidth'] = 0.5\n",
    "mpl.rcParams['xtick.major.width'] = 0.5\n",
    "mpl.rcParams['ytick.major.width'] = 0.5\n",
    "mpl.rcParams['xtick.major.size'] = 2\n",
    "mpl.rcParams['ytick.major.size'] = 2\n",
    "mpl.rcParams['font.sans-serif'] = \"Arial\"\n",
    "mpl.rcParams['font.family'] = \"sans-serif\""
   ]
  },
  {
   "cell_type": "code",
   "execution_count": 4,
   "metadata": {},
   "outputs": [],
   "source": [
    "data = pd.read_csv('../Data/Filtered_LFC_files/Table_S9_filtered_PARP1_v1.csv')"
   ]
  },
  {
   "cell_type": "code",
   "execution_count": 6,
   "metadata": {},
   "outputs": [
    {
     "data": {
      "image/png": "[encoded data removed]",
      "text/plain": [
       "<Figure size 129.6x252 with 6 Axes>"
      ]
     },
     "metadata": {
      "needs_background": "light"
     },
     "output_type": "display_data"
    }
   ],
   "source": [
    "fig,ax=plt.subplots(6,1,figsize=(1.8,0.7*5),sharex=True)\n",
    "for i,drug in enumerate(['Dropout','Niraparib','Olaparib','Rucaparib','Talazoparib','Veliparib']):\n",
    "    if i == 0:\n",
    "        col = 'HAP1;Dropout;AvgAB;LFC_pdna'\n",
    "    else:\n",
    "        col = 'HAP1;'+drug+';AvgAB;LFC_dropout'\n",
    "    sns.distplot(data.loc[(data['Gene symbol'] == 'PARP1') & (data['Mutation bin'].isin(['Silent','No edits'])),col],\n",
    "                 hist=False,color=sns.color_palette('Set2')[0],ax=ax[i])\n",
    "    sns.distplot(data.loc[(data['Gene symbol'] == 'PARP1') & (data['Mutation bin'].isin(['Nonsense','Splice site'])),col],\n",
    "                 hist=False,color=sns.color_palette('Set2')[1],ax=ax[i])\n",
    "    ax[i].set_xlabel('')\n",
    "#fig.savefig('../Figures/Fig6_PARP/Panels/Nonsense_mutations.pdf',transparent=True,bbox_inches='tight')"
   ]
  }
 ],
 "metadata": {
  "kernelspec": {
   "display_name": "Python 2",
   "language": "python",
   "name": "python2"
  },
  "language_info": {
   "codemirror_mode": {
    "name": "ipython",
    "version": 2
   },
   "file_extension": ".py",
   "mimetype": "text/x-python",
   "name": "python",
   "nbconvert_exporter": "python",
   "pygments_lexer": "ipython2",
   "version": "2.7.9"
  }
 },
 "nbformat": 4,
 "nbformat_minor": 2
}
